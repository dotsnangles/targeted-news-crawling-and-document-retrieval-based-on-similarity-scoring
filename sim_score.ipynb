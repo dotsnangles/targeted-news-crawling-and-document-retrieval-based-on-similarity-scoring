{
 "cells": [
  {
   "cell_type": "code",
   "execution_count": 283,
   "metadata": {},
   "outputs": [],
   "source": [
    "import torch\n",
    "from sentence_transformers import SentenceTransformer, util\n",
    "import pandas as pd"
   ]
  },
  {
   "cell_type": "code",
   "execution_count": null,
   "metadata": {},
   "outputs": [],
   "source": [
    "crawled_data = pd.read_csv('인공지능_문화체육관광부_클라썸_crawled.csv')"
   ]
  },
  {
   "cell_type": "code",
   "execution_count": 284,
   "metadata": {},
   "outputs": [],
   "source": [
    "query = '인공지능'\n",
    "business = '클라썸'"
   ]
  },
  {
   "cell_type": "code",
   "execution_count": 285,
   "metadata": {},
   "outputs": [],
   "source": [
    "### crawling_trg에 business 이름이 있는 것과 없는 것을 구분하여 데이터를 나눕니다.\n",
    "\n",
    "crawled_data['checker'] = crawled_data.crawling_trg.str.find(business)\n",
    "\n",
    "bussiness_news = crawled_data[crawled_data.checker > -1].copy().reset_index(drop=True)\n",
    "\n",
    "org_news = crawled_data[crawled_data.checker == -1].copy().reset_index(drop=True)\n",
    "org_news['idx_original'] = range(len(org_news))\n",
    "\n",
    "business_news_contents = bussiness_news[['crawling_trg', 'pubDate', 'title', 'content', 'link']]\n",
    "org_news_contents = org_news[['idx_original', 'crawling_trg', 'pubDate', 'title', 'content', 'link']]"
   ]
  },
  {
   "cell_type": "code",
   "execution_count": 286,
   "metadata": {},
   "outputs": [],
   "source": [
    "### 모델과 토크나이저를 SentenceTransformer 클래스로 불러옵니다.\n",
    "\n",
    "pretrained_model_path = \"sbert/training_klue_sts_klue-roberta-base-2022-08-17_23-27-13\"\n",
    "model = SentenceTransformer(pretrained_model_path)"
   ]
  },
  {
   "cell_type": "code",
   "execution_count": 287,
   "metadata": {},
   "outputs": [],
   "source": [
    "### 유사도를 계산하여 인덱스를 반환하는 함수입니다.\n",
    "\n",
    "def retrieve(query, news_contents, top_k):\n",
    "    query_embedding = model.encode(query)\n",
    "    news_embeddings = model.encode(news_contents.content)\n",
    "\n",
    "    cos_scores = util.pytorch_cos_sim(query_embedding, news_embeddings).squeeze()\n",
    "\n",
    "    top_k = min(top_k, len(news_contents.content))\n",
    "    top_k_results = torch.topk(cos_scores, k=top_k)\n",
    "\n",
    "    return top_k_results.indices"
   ]
  },
  {
   "cell_type": "code",
   "execution_count": 288,
   "metadata": {},
   "outputs": [],
   "source": [
    "### 쿼리와 business 문서 뭉치 간의 유사도 점수를 계산하여 가장 높은 점수의 business 문서를 찾아옵니다.\n",
    "\n",
    "top_k_results = int(retrieve(query, business_news_contents, 1))\n",
    "top_of_business_news_contents = business_news_contents.iloc[top_k_results]"
   ]
  },
  {
   "cell_type": "code",
   "execution_count": 289,
   "metadata": {},
   "outputs": [],
   "source": [
    "### 기관별로 데이터를 나눕니다.\n",
    "\n",
    "org_news_contents_splits = []\n",
    "for org in org_news_contents.crawling_trg.unique():\n",
    "    org_news_contents_split = org_news_contents[org_news_contents.crawling_trg == org].reset_index(drop=True).copy()\n",
    "    org_news_contents_splits.append(org_news_contents_split)"
   ]
  },
  {
   "cell_type": "code",
   "execution_count": 290,
   "metadata": {},
   "outputs": [],
   "source": [
    "### 쿼리와 각 기관별 문서 뭉치간의 유사도 점수를 계산하여 기관별 가장 높은 점수의 문서를 찾아옵니다.\n",
    "\n",
    "tops_of_org_news_contents = []\n",
    "for org_news_contents_split in org_news_contents_splits:\n",
    "    top_k_results = int(retrieve(query, org_news_contents_split, 1))\n",
    "    tops_of_org_news_contents.append(org_news_contents_split.iloc[top_k_results])\n",
    "    \n",
    "tops_of_org_news_contents = list(map(lambda x: x.to_list(), tops_of_org_news_contents))\n",
    "tops_of_org_news_contents = pd.DataFrame(tops_of_org_news_contents, columns=['idx_original', 'crawling_trg', 'pubDate', 'title', 'content', 'link'])"
   ]
  },
  {
   "cell_type": "code",
   "execution_count": 291,
   "metadata": {},
   "outputs": [
    {
     "data": {
      "text/html": [
       "<div>\n",
       "<style scoped>\n",
       "    .dataframe tbody tr th:only-of-type {\n",
       "        vertical-align: middle;\n",
       "    }\n",
       "\n",
       "    .dataframe tbody tr th {\n",
       "        vertical-align: top;\n",
       "    }\n",
       "\n",
       "    .dataframe thead th {\n",
       "        text-align: right;\n",
       "    }\n",
       "</style>\n",
       "<table border=\"1\" class=\"dataframe\">\n",
       "  <thead>\n",
       "    <tr style=\"text-align: right;\">\n",
       "      <th></th>\n",
       "      <th>idx_original</th>\n",
       "      <th>crawling_trg</th>\n",
       "      <th>pubDate</th>\n",
       "      <th>title</th>\n",
       "      <th>content</th>\n",
       "      <th>link</th>\n",
       "    </tr>\n",
       "  </thead>\n",
       "  <tbody>\n",
       "    <tr>\n",
       "      <th>2</th>\n",
       "      <td>46</td>\n",
       "      <td>국립아시아문화전당 인공지능</td>\n",
       "      <td>Tue, 27 Sep 2022 19:45:00 +0900</td>\n",
       "      <td>[키워드 브리핑] AICON 광주 2022 등</td>\n",
       "      <td>- AICON 광주 2022- '2022 청소년과학페어 전국대회', 국제 워크숍 해...</td>\n",
       "      <td>https://n.news.naver.com/mnews/article/660/000...</td>\n",
       "    </tr>\n",
       "    <tr>\n",
       "      <th>20</th>\n",
       "      <td>253</td>\n",
       "      <td>한국문학번역원 인공지능</td>\n",
       "      <td>Thu, 18 Aug 2022 02:29:00 +0900</td>\n",
       "      <td>8월18일 알림</td>\n",
       "      <td>국보 제332호 수마노탑. 정암사 제공 ◇ 정선 정암사는(주지 천웅 스님)는 18일...</td>\n",
       "      <td>https://n.news.naver.com/mnews/article/028/000...</td>\n",
       "    </tr>\n",
       "    <tr>\n",
       "      <th>4</th>\n",
       "      <td>57</td>\n",
       "      <td>국립중앙도서관 인공지능</td>\n",
       "      <td>Sun, 16 Oct 2022 10:02:00 +0900</td>\n",
       "      <td>[2022 기사창투 주역-③]한국전자통신연구원 호남권연구센터</td>\n",
       "      <td>한국전자통신연구원(ETRI) 호남권연구센터는 광주·전남·전북·제주 등 호남광역경제권...</td>\n",
       "      <td>https://n.news.naver.com/mnews/article/030/000...</td>\n",
       "    </tr>\n",
       "    <tr>\n",
       "      <th>26</th>\n",
       "      <td>393</td>\n",
       "      <td>영화진흥위원회 영화관입장권 통합전산망 인공지능</td>\n",
       "      <td>Mon, 08 Aug 2022 11:09:00 +0900</td>\n",
       "      <td>[ET라씨로] 개봉 D-2 헌트 예매율 1위…버킷스튜디오, 주가 18% ↑</td>\n",
       "      <td>ET라씨로는 인공지능(AI) 기반으로 선별·분석한 주식 정보와 종목 매매 신호를 제...</td>\n",
       "      <td>https://n.news.naver.com/mnews/article/030/000...</td>\n",
       "    </tr>\n",
       "    <tr>\n",
       "      <th>16</th>\n",
       "      <td>163</td>\n",
       "      <td>영화진흥위원회 인공지능</td>\n",
       "      <td>Mon, 08 Aug 2022 11:09:00 +0900</td>\n",
       "      <td>[ET라씨로] 개봉 D-2 헌트 예매율 1위…버킷스튜디오, 주가 18% ↑</td>\n",
       "      <td>ET라씨로는 인공지능(AI) 기반으로 선별·분석한 주식 정보와 종목 매매 신호를 제...</td>\n",
       "      <td>https://n.news.naver.com/mnews/article/030/000...</td>\n",
       "    </tr>\n",
       "  </tbody>\n",
       "</table>\n",
       "</div>"
      ],
      "text/plain": [
       "    idx_original               crawling_trg                          pubDate  \\\n",
       "2             46             국립아시아문화전당 인공지능  Tue, 27 Sep 2022 19:45:00 +0900   \n",
       "20           253               한국문학번역원 인공지능  Thu, 18 Aug 2022 02:29:00 +0900   \n",
       "4             57               국립중앙도서관 인공지능  Sun, 16 Oct 2022 10:02:00 +0900   \n",
       "26           393  영화진흥위원회 영화관입장권 통합전산망 인공지능  Mon, 08 Aug 2022 11:09:00 +0900   \n",
       "16           163               영화진흥위원회 인공지능  Mon, 08 Aug 2022 11:09:00 +0900   \n",
       "\n",
       "                                        title  \\\n",
       "2                   [키워드 브리핑] AICON 광주 2022 등   \n",
       "20                                   8월18일 알림   \n",
       "4           [2022 기사창투 주역-③]한국전자통신연구원 호남권연구센터   \n",
       "26  [ET라씨로] 개봉 D-2 헌트 예매율 1위…버킷스튜디오, 주가 18% ↑   \n",
       "16  [ET라씨로] 개봉 D-2 헌트 예매율 1위…버킷스튜디오, 주가 18% ↑   \n",
       "\n",
       "                                              content  \\\n",
       "2   - AICON 광주 2022- '2022 청소년과학페어 전국대회', 국제 워크숍 해...   \n",
       "20  국보 제332호 수마노탑. 정암사 제공 ◇ 정선 정암사는(주지 천웅 스님)는 18일...   \n",
       "4   한국전자통신연구원(ETRI) 호남권연구센터는 광주·전남·전북·제주 등 호남광역경제권...   \n",
       "26  ET라씨로는 인공지능(AI) 기반으로 선별·분석한 주식 정보와 종목 매매 신호를 제...   \n",
       "16  ET라씨로는 인공지능(AI) 기반으로 선별·분석한 주식 정보와 종목 매매 신호를 제...   \n",
       "\n",
       "                                                 link  \n",
       "2   https://n.news.naver.com/mnews/article/660/000...  \n",
       "20  https://n.news.naver.com/mnews/article/028/000...  \n",
       "4   https://n.news.naver.com/mnews/article/030/000...  \n",
       "26  https://n.news.naver.com/mnews/article/030/000...  \n",
       "16  https://n.news.naver.com/mnews/article/030/000...  "
      ]
     },
     "execution_count": 291,
     "metadata": {},
     "output_type": "execute_result"
    }
   ],
   "source": [
    "### 가장 높은 점수의 business 문서를 쿼리로 하여 \n",
    "### 가장 높은 점수의 기관별 문서 뭉치와 유사도 점수를 계산하고 유사도 점수 상위 5개 문서를 찾아옵니다.\n",
    "\n",
    "top_k_results = retrieve(top_of_business_news_contents.content, tops_of_org_news_contents, 5)\n",
    "result = tops_of_org_news_contents.iloc[top_k_results]"
   ]
  }
 ],
 "metadata": {
  "kernelspec": {
   "display_name": "Python 3.10.6 ('jeonghyeon')",
   "language": "python",
   "name": "python3"
  },
  "language_info": {
   "codemirror_mode": {
    "name": "ipython",
    "version": 3
   },
   "file_extension": ".py",
   "mimetype": "text/x-python",
   "name": "python",
   "nbconvert_exporter": "python",
   "pygments_lexer": "ipython3",
   "version": "3.10.6"
  },
  "orig_nbformat": 4,
  "vscode": {
   "interpreter": {
    "hash": "df12b971f0e4e081474c4ac44bd338416eac6f5401e1e938ba342788cee78ecd"
   }
  }
 },
 "nbformat": 4,
 "nbformat_minor": 2
}
