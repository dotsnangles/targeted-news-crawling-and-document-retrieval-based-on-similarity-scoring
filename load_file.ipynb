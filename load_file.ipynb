{
 "cells": [
  {
   "cell_type": "code",
   "execution_count": 2,
   "metadata": {},
   "outputs": [],
   "source": [
    "import pandas as pd\n",
    "import numpy as np\n",
    "from datetime import datetime, timedelta\n",
    "from module.preprocess import preprocess"
   ]
  },
  {
   "cell_type": "code",
   "execution_count": 3,
   "metadata": {},
   "outputs": [
    {
     "data": {
      "text/plain": [
       "(63,\n",
       " ['crawling_trg',\n",
       "  'pubDate',\n",
       "  'title',\n",
       "  'content',\n",
       "  'originallink',\n",
       "  'link',\n",
       "  'description'])"
      ]
     },
     "execution_count": 3,
     "metadata": {},
     "output_type": "execute_result"
    }
   ],
   "source": [
    "crawled = pd.read_csv('인공지능_외교부_crawled_bk.csv')\n",
    "for idx, row in crawled.iterrows():\n",
    "    trgs = row.crawling_trg.split(' ')[1:]\n",
    "    for trg in trgs:\n",
    "        if trg not in row.content:\n",
    "            print(row.title)\n",
    "len(crawled), list(crawled.columns)"
   ]
  },
  {
   "cell_type": "code",
   "execution_count": 4,
   "metadata": {},
   "outputs": [
    {
     "data": {
      "text/plain": [
       "True"
      ]
     },
     "execution_count": 4,
     "metadata": {},
     "output_type": "execute_result"
    }
   ],
   "source": [
    "'link' in crawled.columns"
   ]
  },
  {
   "cell_type": "code",
   "execution_count": 11,
   "metadata": {},
   "outputs": [
    {
     "data": {
      "text/plain": [
       "NoneType"
      ]
     },
     "execution_count": 11,
     "metadata": {},
     "output_type": "execute_result"
    }
   ],
   "source": [
    "type(None)"
   ]
  },
  {
   "cell_type": "code",
   "execution_count": 65,
   "metadata": {},
   "outputs": [],
   "source": [
    "crawled['time'] = pd.to_datetime(crawled['pubDate'], unit='ns', utc=True)\n",
    "# .dt.tz_convert(None)"
   ]
  },
  {
   "cell_type": "code",
   "execution_count": 66,
   "metadata": {},
   "outputs": [
    {
     "data": {
      "text/plain": [
       "0    2022-05-23 09:30:00+00:00\n",
       "1    2022-05-05 08:33:00+00:00\n",
       "2    2021-06-25 12:44:00+00:00\n",
       "3    2021-05-24 08:20:00+00:00\n",
       "4    2021-05-22 11:33:00+00:00\n",
       "                ...           \n",
       "58   2020-10-14 09:33:00+00:00\n",
       "59   2020-10-14 07:12:00+00:00\n",
       "60   2020-10-14 06:30:00+00:00\n",
       "61   2020-10-14 06:13:00+00:00\n",
       "62   2020-06-30 03:01:00+00:00\n",
       "Name: time, Length: 63, dtype: datetime64[ns, UTC]"
      ]
     },
     "execution_count": 66,
     "metadata": {},
     "output_type": "execute_result"
    }
   ],
   "source": [
    "crawled.time"
   ]
  },
  {
   "cell_type": "code",
   "execution_count": 43,
   "metadata": {},
   "outputs": [
    {
     "data": {
      "text/plain": [
       "Timestamp('2022-08-03 10:37:38.355110+0000', tz='UTC')"
      ]
     },
     "execution_count": 43,
     "metadata": {},
     "output_type": "execute_result"
    }
   ],
   "source": [
    "pd.to_datetime(three_months_ago, unit='ns', utc=True)"
   ]
  },
  {
   "cell_type": "code",
   "execution_count": 6,
   "metadata": {},
   "outputs": [
    {
     "data": {
      "text/plain": [
       "'2022-11-01 11:40:50.285211'"
      ]
     },
     "execution_count": 6,
     "metadata": {},
     "output_type": "execute_result"
    }
   ],
   "source": [
    "now = datetime.now()\n",
    "str(now)"
   ]
  },
  {
   "cell_type": "code",
   "execution_count": 71,
   "metadata": {},
   "outputs": [],
   "source": [
    "## 날짜 필터링\n",
    "now = datetime.now()\n",
    "diff_days = timedelta(days=90)\n",
    "three_months_ago = now - diff_days\n",
    "# three_months_ago = np.datetime64(three_months_ago)\n",
    "three_months_ago = pd.to_datetime(three_months_ago, unit='ns', utc=True)\n",
    "crawled['time'] = pd.to_datetime(crawled['pubDate'], utc=True)\n",
    "# crawled['time'] = pd.to_datetime(crawled['pubDate']).dt.tz_convert(None)\n",
    "filtered_df = crawled.loc[(crawled['time'] >= three_months_ago)]"
   ]
  },
  {
   "cell_type": "code",
   "execution_count": 72,
   "metadata": {},
   "outputs": [
    {
     "data": {
      "text/plain": [
       "0    2022-05-23 09:30:00+00:00\n",
       "1    2022-05-05 08:33:00+00:00\n",
       "2    2021-06-25 12:44:00+00:00\n",
       "3    2021-05-24 08:20:00+00:00\n",
       "4    2021-05-22 11:33:00+00:00\n",
       "                ...           \n",
       "58   2020-10-14 09:33:00+00:00\n",
       "59   2020-10-14 07:12:00+00:00\n",
       "60   2020-10-14 06:30:00+00:00\n",
       "61   2020-10-14 06:13:00+00:00\n",
       "62   2020-06-30 03:01:00+00:00\n",
       "Name: time, Length: 63, dtype: datetime64[ns, UTC]"
      ]
     },
     "execution_count": 72,
     "metadata": {},
     "output_type": "execute_result"
    }
   ],
   "source": [
    "crawled['time']"
   ]
  },
  {
   "cell_type": "code",
   "execution_count": 73,
   "metadata": {},
   "outputs": [
    {
     "data": {
      "text/html": [
       "<div>\n",
       "<style scoped>\n",
       "    .dataframe tbody tr th:only-of-type {\n",
       "        vertical-align: middle;\n",
       "    }\n",
       "\n",
       "    .dataframe tbody tr th {\n",
       "        vertical-align: top;\n",
       "    }\n",
       "\n",
       "    .dataframe thead th {\n",
       "        text-align: right;\n",
       "    }\n",
       "</style>\n",
       "<table border=\"1\" class=\"dataframe\">\n",
       "  <thead>\n",
       "    <tr style=\"text-align: right;\">\n",
       "      <th></th>\n",
       "      <th>crawling_trg</th>\n",
       "      <th>pubDate</th>\n",
       "      <th>title</th>\n",
       "      <th>content</th>\n",
       "      <th>originallink</th>\n",
       "      <th>link</th>\n",
       "      <th>description</th>\n",
       "      <th>time</th>\n",
       "    </tr>\n",
       "  </thead>\n",
       "  <tbody>\n",
       "    <tr>\n",
       "      <th>30</th>\n",
       "      <td>외교부 재외동포재단 인공지능</td>\n",
       "      <td>Wed, 05 Oct 2022 20:11:00 +0900</td>\n",
       "      <td>10월 6일 알림</td>\n",
       "      <td>정은혜 작가의 자화상. 인디스페이스 제공  ◇ 인디스페이스는 6일 오후 3시40분 ...</td>\n",
       "      <td>https://www.hani.co.kr/arti/society/ngo/106153...</td>\n",
       "      <td>https://n.news.naver.com/mnews/article/028/000...</td>\n",
       "      <td>◇ &lt;b&gt;재외동포재단&lt;/b&gt;은 &lt;b&gt;외교부&lt;/b&gt;의 후원을 받아 12∼17일 서울 ...</td>\n",
       "      <td>2022-10-05 11:11:00+00:00</td>\n",
       "    </tr>\n",
       "    <tr>\n",
       "      <th>31</th>\n",
       "      <td>외교부 재외동포재단 인공지능</td>\n",
       "      <td>Wed, 24 Aug 2022 18:58:00 +0900</td>\n",
       "      <td>&amp;apos;대한민국 글로벌 중추국가&amp;apos;…尹 정부 외교 청사진 공개</td>\n",
       "      <td>24일 공공외교위원회 6차 회의'정책 공공외교 강화' 등 3대 목표박진(왼쪽 네 번...</td>\n",
       "      <td>https://hankookilbo.com/News/Read/A20220824135...</td>\n",
       "      <td>https://n.news.naver.com/mnews/article/469/000...</td>\n",
       "      <td>한국국제교류&lt;b&gt;재단&lt;/b&gt;, &lt;b&gt;재외동포재단&lt;/b&gt;도 옵서버로 참여했다. 위원들...</td>\n",
       "      <td>2022-08-24 09:58:00+00:00</td>\n",
       "    </tr>\n",
       "    <tr>\n",
       "      <th>38</th>\n",
       "      <td>외교부 한국국제교류재단 인공지능</td>\n",
       "      <td>Wed, 24 Aug 2022 18:58:00 +0900</td>\n",
       "      <td>&amp;apos;대한민국 글로벌 중추국가&amp;apos;…尹 정부 외교 청사진 공개</td>\n",
       "      <td>24일 공공외교위원회 6차 회의'정책 공공외교 강화' 등 3대 목표박진(왼쪽 네 번...</td>\n",
       "      <td>https://hankookilbo.com/News/Read/A20220824135...</td>\n",
       "      <td>https://n.news.naver.com/mnews/article/469/000...</td>\n",
       "      <td>지방자치단체와 &lt;b&gt;한국국제교류재단&lt;/b&gt;, 재외동포&lt;b&gt;재단&lt;/b&gt;도 옵서버로 참...</td>\n",
       "      <td>2022-08-24 09:58:00+00:00</td>\n",
       "    </tr>\n",
       "  </tbody>\n",
       "</table>\n",
       "</div>"
      ],
      "text/plain": [
       "         crawling_trg                          pubDate  \\\n",
       "30    외교부 재외동포재단 인공지능  Wed, 05 Oct 2022 20:11:00 +0900   \n",
       "31    외교부 재외동포재단 인공지능  Wed, 24 Aug 2022 18:58:00 +0900   \n",
       "38  외교부 한국국제교류재단 인공지능  Wed, 24 Aug 2022 18:58:00 +0900   \n",
       "\n",
       "                                       title  \\\n",
       "30                                 10월 6일 알림   \n",
       "31  &apos;대한민국 글로벌 중추국가&apos;…尹 정부 외교 청사진 공개   \n",
       "38  &apos;대한민국 글로벌 중추국가&apos;…尹 정부 외교 청사진 공개   \n",
       "\n",
       "                                              content  \\\n",
       "30  정은혜 작가의 자화상. 인디스페이스 제공  ◇ 인디스페이스는 6일 오후 3시40분 ...   \n",
       "31  24일 공공외교위원회 6차 회의'정책 공공외교 강화' 등 3대 목표박진(왼쪽 네 번...   \n",
       "38  24일 공공외교위원회 6차 회의'정책 공공외교 강화' 등 3대 목표박진(왼쪽 네 번...   \n",
       "\n",
       "                                         originallink  \\\n",
       "30  https://www.hani.co.kr/arti/society/ngo/106153...   \n",
       "31  https://hankookilbo.com/News/Read/A20220824135...   \n",
       "38  https://hankookilbo.com/News/Read/A20220824135...   \n",
       "\n",
       "                                                 link  \\\n",
       "30  https://n.news.naver.com/mnews/article/028/000...   \n",
       "31  https://n.news.naver.com/mnews/article/469/000...   \n",
       "38  https://n.news.naver.com/mnews/article/469/000...   \n",
       "\n",
       "                                          description  \\\n",
       "30  ◇ <b>재외동포재단</b>은 <b>외교부</b>의 후원을 받아 12∼17일 서울 ...   \n",
       "31  한국국제교류<b>재단</b>, <b>재외동포재단</b>도 옵서버로 참여했다. 위원들...   \n",
       "38  지방자치단체와 <b>한국국제교류재단</b>, 재외동포<b>재단</b>도 옵서버로 참...   \n",
       "\n",
       "                        time  \n",
       "30 2022-10-05 11:11:00+00:00  \n",
       "31 2022-08-24 09:58:00+00:00  \n",
       "38 2022-08-24 09:58:00+00:00  "
      ]
     },
     "execution_count": 73,
     "metadata": {},
     "output_type": "execute_result"
    }
   ],
   "source": [
    "filtered_df"
   ]
  },
  {
   "cell_type": "code",
   "execution_count": 6,
   "metadata": {},
   "outputs": [],
   "source": [
    "# crawled[['crawling_trg', 'pubDate', 'title', 'content']]"
   ]
  },
  {
   "cell_type": "code",
   "execution_count": 11,
   "metadata": {},
   "outputs": [],
   "source": [
    "# preprocessed = preprocess(crawled)"
   ]
  },
  {
   "cell_type": "code",
   "execution_count": 10,
   "metadata": {},
   "outputs": [],
   "source": [
    "# for el in preprocessed.description:\n",
    "#     print(el)\n",
    "#     print()"
   ]
  }
 ],
 "metadata": {
  "kernelspec": {
   "display_name": "Python 3.10.6 ('jeonghyeon')",
   "language": "python",
   "name": "python3"
  },
  "language_info": {
   "codemirror_mode": {
    "name": "ipython",
    "version": 3
   },
   "file_extension": ".py",
   "mimetype": "text/x-python",
   "name": "python",
   "nbconvert_exporter": "python",
   "pygments_lexer": "ipython3",
   "version": "3.10.6"
  },
  "orig_nbformat": 4,
  "vscode": {
   "interpreter": {
    "hash": "df12b971f0e4e081474c4ac44bd338416eac6f5401e1e938ba342788cee78ecd"
   }
  }
 },
 "nbformat": 4,
 "nbformat_minor": 2
}
