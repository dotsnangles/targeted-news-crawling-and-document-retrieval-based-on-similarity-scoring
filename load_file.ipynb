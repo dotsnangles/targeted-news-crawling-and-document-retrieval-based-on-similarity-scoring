{
 "cells": [
  {
   "cell_type": "code",
   "execution_count": 27,
   "metadata": {},
   "outputs": [],
   "source": [
    "import pandas as pd"
   ]
  },
  {
   "cell_type": "code",
   "execution_count": 28,
   "metadata": {},
   "outputs": [],
   "source": [
    "crawled = pd.read_csv('인공지능_통일부_crawled.csv')"
   ]
  },
  {
   "cell_type": "code",
   "execution_count": 40,
   "metadata": {},
   "outputs": [
    {
     "data": {
      "text/html": [
       "<div>\n",
       "<style scoped>\n",
       "    .dataframe tbody tr th:only-of-type {\n",
       "        vertical-align: middle;\n",
       "    }\n",
       "\n",
       "    .dataframe tbody tr th {\n",
       "        vertical-align: top;\n",
       "    }\n",
       "\n",
       "    .dataframe thead th {\n",
       "        text-align: right;\n",
       "    }\n",
       "</style>\n",
       "<table border=\"1\" class=\"dataframe\">\n",
       "  <thead>\n",
       "    <tr style=\"text-align: right;\">\n",
       "      <th></th>\n",
       "      <th>crawling_trg</th>\n",
       "      <th>pubDate</th>\n",
       "      <th>title</th>\n",
       "      <th>content</th>\n",
       "      <th>originallink</th>\n",
       "      <th>link</th>\n",
       "      <th>description</th>\n",
       "    </tr>\n",
       "  </thead>\n",
       "  <tbody>\n",
       "  </tbody>\n",
       "</table>\n",
       "</div>"
      ],
      "text/plain": [
       "Empty DataFrame\n",
       "Columns: [crawling_trg, pubDate, title, content, originallink, link, description]\n",
       "Index: []"
      ]
     },
     "execution_count": 40,
     "metadata": {},
     "output_type": "execute_result"
    }
   ],
   "source": [
    "crawled.head(0)"
   ]
  },
  {
   "cell_type": "code",
   "execution_count": 29,
   "metadata": {},
   "outputs": [
    {
     "data": {
      "text/html": [
       "<div>\n",
       "<style scoped>\n",
       "    .dataframe tbody tr th:only-of-type {\n",
       "        vertical-align: middle;\n",
       "    }\n",
       "\n",
       "    .dataframe tbody tr th {\n",
       "        vertical-align: top;\n",
       "    }\n",
       "\n",
       "    .dataframe thead th {\n",
       "        text-align: right;\n",
       "    }\n",
       "</style>\n",
       "<table border=\"1\" class=\"dataframe\">\n",
       "  <thead>\n",
       "    <tr style=\"text-align: right;\">\n",
       "      <th></th>\n",
       "      <th>crawling_trg</th>\n",
       "      <th>pubDate</th>\n",
       "      <th>title</th>\n",
       "      <th>content</th>\n",
       "    </tr>\n",
       "  </thead>\n",
       "  <tbody>\n",
       "    <tr>\n",
       "      <th>0</th>\n",
       "      <td>통일부 남북출입사무소 인공지능</td>\n",
       "      <td>Mon, 08 Feb 2021 09:51:00 +0900</td>\n",
       "      <td>[인사] 국민권익위원회, 중소벤처기업부, &lt;b&gt;통일부&lt;/b&gt;, 법무부</td>\n",
       "      <td>[서울Biz]■ 국민권익위원회◇ 고위공무원 전보(가급)△ 상임위원 박계옥◇ 고위공무...</td>\n",
       "    </tr>\n",
       "    <tr>\n",
       "      <th>1</th>\n",
       "      <td>통일부 남북출입사무소 인공지능</td>\n",
       "      <td>Mon, 08 Feb 2021 05:07:00 +0900</td>\n",
       "      <td>[인사]</td>\n",
       "      <td>■교육부 △기획조정실장 김문희△정책기획관 황성환■통일부 ◇고위공무원 상향△교류협력실...</td>\n",
       "    </tr>\n",
       "    <tr>\n",
       "      <th>2</th>\n",
       "      <td>통일부 남북출입사무소 인공지능</td>\n",
       "      <td>Mon, 08 Feb 2021 03:02:00 +0900</td>\n",
       "      <td>[인사]&lt;b&gt;통일부&lt;/b&gt; 外</td>\n",
       "      <td>◇통일부 ＜승진＞ ▽고위공무원 가급 △교류협력실장 백태현 ▽부이사관 △구병삼 △북한...</td>\n",
       "    </tr>\n",
       "    <tr>\n",
       "      <th>3</th>\n",
       "      <td>통일부 남북출입사무소 인공지능</td>\n",
       "      <td>Mon, 08 Feb 2021 02:01:00 +0900</td>\n",
       "      <td>[인사] &lt;b&gt;통일부&lt;/b&gt; 외</td>\n",
       "      <td>통일부 ◆고위공무원 상향전보 △교류협력실장 백태현 ◆고위공무원 전보 △남북회담본부장...</td>\n",
       "    </tr>\n",
       "    <tr>\n",
       "      <th>4</th>\n",
       "      <td>통일부 남북회담본부 인공지능</td>\n",
       "      <td>Fri, 17 Jun 2022 17:33:00 +0900</td>\n",
       "      <td>[주장] 팩스는 이제 그만, 한반도 디지털 플랫폼을 구축하자</td>\n",
       "      <td>...</td>\n",
       "    </tr>\n",
       "  </tbody>\n",
       "</table>\n",
       "</div>"
      ],
      "text/plain": [
       "       crawling_trg                          pubDate  \\\n",
       "0  통일부 남북출입사무소 인공지능  Mon, 08 Feb 2021 09:51:00 +0900   \n",
       "1  통일부 남북출입사무소 인공지능  Mon, 08 Feb 2021 05:07:00 +0900   \n",
       "2  통일부 남북출입사무소 인공지능  Mon, 08 Feb 2021 03:02:00 +0900   \n",
       "3  통일부 남북출입사무소 인공지능  Mon, 08 Feb 2021 02:01:00 +0900   \n",
       "4   통일부 남북회담본부 인공지능  Fri, 17 Jun 2022 17:33:00 +0900   \n",
       "\n",
       "                                    title  \\\n",
       "0  [인사] 국민권익위원회, 중소벤처기업부, <b>통일부</b>, 법무부   \n",
       "1                                    [인사]   \n",
       "2                        [인사]<b>통일부</b> 外   \n",
       "3                       [인사] <b>통일부</b> 외   \n",
       "4       [주장] 팩스는 이제 그만, 한반도 디지털 플랫폼을 구축하자   \n",
       "\n",
       "                                             content  \n",
       "0  [서울Biz]■ 국민권익위원회◇ 고위공무원 전보(가급)△ 상임위원 박계옥◇ 고위공무...  \n",
       "1  ■교육부 △기획조정실장 김문희△정책기획관 황성환■통일부 ◇고위공무원 상향△교류협력실...  \n",
       "2  ◇통일부 ＜승진＞ ▽고위공무원 가급 △교류협력실장 백태현 ▽부이사관 △구병삼 △북한...  \n",
       "3  통일부 ◆고위공무원 상향전보 △교류협력실장 백태현 ◆고위공무원 전보 △남북회담본부장...  \n",
       "4                                                ...  "
      ]
     },
     "execution_count": 29,
     "metadata": {},
     "output_type": "execute_result"
    }
   ],
   "source": [
    "crawled[['crawling_trg', 'pubDate', 'title', 'content']].head(5) "
   ]
  },
  {
   "cell_type": "code",
   "execution_count": 31,
   "metadata": {},
   "outputs": [],
   "source": [
    "for idx, row in crawled.iterrows():\n",
    "    trgs = row.crawling_trg.split(' ')[1:]\n",
    "    for trg in trgs:\n",
    "        if trg not in row.content:\n",
    "            print(row.title)"
   ]
  },
  {
   "cell_type": "code",
   "execution_count": null,
   "metadata": {},
   "outputs": [],
   "source": []
  }
 ],
 "metadata": {
  "kernelspec": {
   "display_name": "Python 3.10.6 ('jeonghyeon')",
   "language": "python",
   "name": "python3"
  },
  "language_info": {
   "codemirror_mode": {
    "name": "ipython",
    "version": 3
   },
   "file_extension": ".py",
   "mimetype": "text/x-python",
   "name": "python",
   "nbconvert_exporter": "python",
   "pygments_lexer": "ipython3",
   "version": "3.10.6"
  },
  "orig_nbformat": 4,
  "vscode": {
   "interpreter": {
    "hash": "df12b971f0e4e081474c4ac44bd338416eac6f5401e1e938ba342788cee78ecd"
   }
  }
 },
 "nbformat": 4,
 "nbformat_minor": 2
}
