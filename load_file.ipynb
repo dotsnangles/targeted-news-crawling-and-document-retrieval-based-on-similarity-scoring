{
 "cells": [
  {
   "cell_type": "code",
   "execution_count": 146,
   "metadata": {},
   "outputs": [],
   "source": [
    "import pandas as pd\n",
    "import numpy as np\n",
    "from datetime import datetime, timedelta\n",
    "from module.preprocess import preprocess"
   ]
  },
  {
   "cell_type": "code",
   "execution_count": 147,
   "metadata": {},
   "outputs": [
    {
     "data": {
      "text/plain": [
       "(3,\n",
       " ['crawling_trg',\n",
       "  'pubDate',\n",
       "  'title',\n",
       "  'content',\n",
       "  'originallink',\n",
       "  'link',\n",
       "  'description'])"
      ]
     },
     "execution_count": 147,
     "metadata": {},
     "output_type": "execute_result"
    }
   ],
   "source": [
    "crawled = pd.read_csv('인공지능_외교부_crawled.csv')\n",
    "for idx, row in crawled.iterrows():\n",
    "    trgs = row.crawling_trg.split(' ')[1:]\n",
    "    for trg in trgs:\n",
    "        if trg not in row.content:\n",
    "            print(row.title)\n",
    "len(crawled), list(crawled.columns)"
   ]
  },
  {
   "cell_type": "code",
   "execution_count": 148,
   "metadata": {},
   "outputs": [
    {
     "data": {
      "text/html": [
       "<div>\n",
       "<style scoped>\n",
       "    .dataframe tbody tr th:only-of-type {\n",
       "        vertical-align: middle;\n",
       "    }\n",
       "\n",
       "    .dataframe tbody tr th {\n",
       "        vertical-align: top;\n",
       "    }\n",
       "\n",
       "    .dataframe thead th {\n",
       "        text-align: right;\n",
       "    }\n",
       "</style>\n",
       "<table border=\"1\" class=\"dataframe\">\n",
       "  <thead>\n",
       "    <tr style=\"text-align: right;\">\n",
       "      <th></th>\n",
       "      <th>crawling_trg</th>\n",
       "      <th>pubDate</th>\n",
       "      <th>title</th>\n",
       "      <th>content</th>\n",
       "      <th>originallink</th>\n",
       "      <th>link</th>\n",
       "      <th>description</th>\n",
       "    </tr>\n",
       "  </thead>\n",
       "  <tbody>\n",
       "    <tr>\n",
       "      <th>0</th>\n",
       "      <td>외교부 재외동포재단 인공지능</td>\n",
       "      <td>Wed, 05 Oct 2022 20:11:00 +0900</td>\n",
       "      <td>10월 6일 알림</td>\n",
       "      <td>정은혜 작가의 자화상. 인디스페이스 제공 ◇ 인디스페이스는 6일 오후 3시40분 발...</td>\n",
       "      <td>https://www.hani.co.kr/arti/society/ngo/106153...</td>\n",
       "      <td>https://n.news.naver.com/mnews/article/028/000...</td>\n",
       "      <td>◇ 재외동포재단은 외교부의 후원을 받아 12∼17일 서울 드래곤시티 호텔과 서울 주...</td>\n",
       "    </tr>\n",
       "    <tr>\n",
       "      <th>1</th>\n",
       "      <td>외교부 재외동포재단 인공지능</td>\n",
       "      <td>Wed, 24 Aug 2022 18:58:00 +0900</td>\n",
       "      <td>대한민국 글로벌 중추국가…尹 정부 외교 청사진 공개</td>\n",
       "      <td>24일 공공외교위원회 6차 회의'정책 공공외교 강화' 등 3대 목표박진(왼쪽 네 번...</td>\n",
       "      <td>https://hankookilbo.com/News/Read/A20220824135...</td>\n",
       "      <td>https://n.news.naver.com/mnews/article/469/000...</td>\n",
       "      <td>한국국제교류재단, 재외동포재단도 옵서버로 참여했다. 위원들은 이번 회의에서 2023...</td>\n",
       "    </tr>\n",
       "    <tr>\n",
       "      <th>2</th>\n",
       "      <td>외교부 한국국제교류재단 인공지능</td>\n",
       "      <td>Wed, 24 Aug 2022 18:58:00 +0900</td>\n",
       "      <td>대한민국 글로벌 중추국가…尹 정부 외교 청사진 공개</td>\n",
       "      <td>24일 공공외교위원회 6차 회의'정책 공공외교 강화' 등 3대 목표박진(왼쪽 네 번...</td>\n",
       "      <td>https://hankookilbo.com/News/Read/A20220824135...</td>\n",
       "      <td>https://n.news.naver.com/mnews/article/469/000...</td>\n",
       "      <td>지방자치단체와 한국국제교류재단, 재외동포재단도 옵서버로 참여했다. 위원들은 이번 회...</td>\n",
       "    </tr>\n",
       "  </tbody>\n",
       "</table>\n",
       "</div>"
      ],
      "text/plain": [
       "        crawling_trg                          pubDate  \\\n",
       "0    외교부 재외동포재단 인공지능  Wed, 05 Oct 2022 20:11:00 +0900   \n",
       "1    외교부 재외동포재단 인공지능  Wed, 24 Aug 2022 18:58:00 +0900   \n",
       "2  외교부 한국국제교류재단 인공지능  Wed, 24 Aug 2022 18:58:00 +0900   \n",
       "\n",
       "                          title  \\\n",
       "0                     10월 6일 알림   \n",
       "1  대한민국 글로벌 중추국가…尹 정부 외교 청사진 공개   \n",
       "2  대한민국 글로벌 중추국가…尹 정부 외교 청사진 공개   \n",
       "\n",
       "                                             content  \\\n",
       "0  정은혜 작가의 자화상. 인디스페이스 제공 ◇ 인디스페이스는 6일 오후 3시40분 발...   \n",
       "1  24일 공공외교위원회 6차 회의'정책 공공외교 강화' 등 3대 목표박진(왼쪽 네 번...   \n",
       "2  24일 공공외교위원회 6차 회의'정책 공공외교 강화' 등 3대 목표박진(왼쪽 네 번...   \n",
       "\n",
       "                                        originallink  \\\n",
       "0  https://www.hani.co.kr/arti/society/ngo/106153...   \n",
       "1  https://hankookilbo.com/News/Read/A20220824135...   \n",
       "2  https://hankookilbo.com/News/Read/A20220824135...   \n",
       "\n",
       "                                                link  \\\n",
       "0  https://n.news.naver.com/mnews/article/028/000...   \n",
       "1  https://n.news.naver.com/mnews/article/469/000...   \n",
       "2  https://n.news.naver.com/mnews/article/469/000...   \n",
       "\n",
       "                                         description  \n",
       "0  ◇ 재외동포재단은 외교부의 후원을 받아 12∼17일 서울 드래곤시티 호텔과 서울 주...  \n",
       "1  한국국제교류재단, 재외동포재단도 옵서버로 참여했다. 위원들은 이번 회의에서 2023...  \n",
       "2  지방자치단체와 한국국제교류재단, 재외동포재단도 옵서버로 참여했다. 위원들은 이번 회...  "
      ]
     },
     "execution_count": 148,
     "metadata": {},
     "output_type": "execute_result"
    }
   ],
   "source": [
    "crawled"
   ]
  },
  {
   "cell_type": "code",
   "execution_count": 141,
   "metadata": {},
   "outputs": [],
   "source": [
    "### 날짜 필터링\n",
    "# now = datetime.now()\n",
    "# diff_days = timedelta(days=90)\n",
    "# three_months_ago = now - diff_days\n",
    "# three_months_ago = np.datetime64(three_months_ago)\n",
    "# crawled['time'] = pd.to_datetime(crawled['pubDate']).dt.tz_convert(None)\n",
    "# filtered_df = crawled.loc[(crawled['time'] >= three_months_ago)]"
   ]
  },
  {
   "cell_type": "code",
   "execution_count": 6,
   "metadata": {},
   "outputs": [],
   "source": [
    "# crawled[['crawling_trg', 'pubDate', 'title', 'content']]"
   ]
  },
  {
   "cell_type": "code",
   "execution_count": 11,
   "metadata": {},
   "outputs": [],
   "source": [
    "# preprocessed = preprocess(crawled)"
   ]
  },
  {
   "cell_type": "code",
   "execution_count": 10,
   "metadata": {},
   "outputs": [],
   "source": [
    "# for el in preprocessed.description:\n",
    "#     print(el)\n",
    "#     print()"
   ]
  }
 ],
 "metadata": {
  "kernelspec": {
   "display_name": "Python 3.10.6 ('jeonghyeon')",
   "language": "python",
   "name": "python3"
  },
  "language_info": {
   "codemirror_mode": {
    "name": "ipython",
    "version": 3
   },
   "file_extension": ".py",
   "mimetype": "text/x-python",
   "name": "python",
   "nbconvert_exporter": "python",
   "pygments_lexer": "ipython3",
   "version": "3.10.6"
  },
  "orig_nbformat": 4,
  "vscode": {
   "interpreter": {
    "hash": "df12b971f0e4e081474c4ac44bd338416eac6f5401e1e938ba342788cee78ecd"
   }
  }
 },
 "nbformat": 4,
 "nbformat_minor": 2
}
