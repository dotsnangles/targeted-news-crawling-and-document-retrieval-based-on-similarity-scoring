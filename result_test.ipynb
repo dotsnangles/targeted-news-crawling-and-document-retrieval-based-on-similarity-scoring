{
 "cells": [
  {
   "cell_type": "code",
   "execution_count": 1,
   "metadata": {},
   "outputs": [],
   "source": [
    "import pandas as pd"
   ]
  },
  {
   "cell_type": "code",
   "execution_count": 2,
   "metadata": {},
   "outputs": [],
   "source": [
    "crawling_result = pd.read_csv('results/v3/영화_문화체육관광부_명필름_crawled.csv')\n",
    "top_of_business_news_contents = pd.read_csv('results/v3/top_scored_business_news.csv')\n",
    "tops_of_org_news_contents_splits = pd.read_csv('results/v3/list_of_top_scored_org_news.csv')\n",
    "result = pd.read_csv('results/v3/top_5_orgs_and_their_news.csv')"
   ]
  },
  {
   "cell_type": "code",
   "execution_count": 9,
   "metadata": {},
   "outputs": [
    {
     "data": {
      "text/html": [
       "<div>\n",
       "<style scoped>\n",
       "    .dataframe tbody tr th:only-of-type {\n",
       "        vertical-align: middle;\n",
       "    }\n",
       "\n",
       "    .dataframe tbody tr th {\n",
       "        vertical-align: top;\n",
       "    }\n",
       "\n",
       "    .dataframe thead th {\n",
       "        text-align: right;\n",
       "    }\n",
       "</style>\n",
       "<table border=\"1\" class=\"dataframe\">\n",
       "  <thead>\n",
       "    <tr style=\"text-align: right;\">\n",
       "      <th></th>\n",
       "      <th>idx_original</th>\n",
       "      <th>target</th>\n",
       "      <th>keyword</th>\n",
       "      <th>pubDate</th>\n",
       "      <th>title</th>\n",
       "      <th>content</th>\n",
       "      <th>link</th>\n",
       "      <th>score</th>\n",
       "    </tr>\n",
       "  </thead>\n",
       "  <tbody>\n",
       "    <tr>\n",
       "      <th>0</th>\n",
       "      <td>64</td>\n",
       "      <td>국립아시아문화전당</td>\n",
       "      <td>영화</td>\n",
       "      <td>Wed, 05 Oct 2022 13:29:00 +0900</td>\n",
       "      <td>“해외에서 인정받은 K-애니의 저력 선보인다”</td>\n",
       "      <td>콘진원, 부산과 광주 두 곳서 한국 애니메이션 상영회 개최부산에서 개최되는 ‘콕 찝...</td>\n",
       "      <td>https://n.news.naver.com/mnews/article/016/000...</td>\n",
       "      <td>0.655800</td>\n",
       "    </tr>\n",
       "    <tr>\n",
       "      <th>1</th>\n",
       "      <td>1844</td>\n",
       "      <td>한국영상자료원</td>\n",
       "      <td>영화</td>\n",
       "      <td>Sun, 16 Oct 2022 18:28:00 +0900</td>\n",
       "      <td>이우석 회고록 ‘영화에 살다’ 출판기념회 성황</td>\n",
       "      <td>14일 서울 상암동 한국영상자료원에서 열린 이우석 동아수출공사 회장의 회고록 출간기...</td>\n",
       "      <td>https://n.news.naver.com/mnews/article/021/000...</td>\n",
       "      <td>0.650629</td>\n",
       "    </tr>\n",
       "    <tr>\n",
       "      <th>2</th>\n",
       "      <td>958</td>\n",
       "      <td>영화진흥위원회</td>\n",
       "      <td>영화</td>\n",
       "      <td>Fri, 21 Oct 2022 15:17:00 +0900</td>\n",
       "      <td>다양성과 포용성, 한국영화계가 나섰다</td>\n",
       "      <td>'모두가 모인 든든한 영화축제' 20일부터 22일까지0.73%P 격차의 지난 20대...</td>\n",
       "      <td>https://n.news.naver.com/mnews/article/047/000...</td>\n",
       "      <td>0.638094</td>\n",
       "    </tr>\n",
       "    <tr>\n",
       "      <th>3</th>\n",
       "      <td>2890</td>\n",
       "      <td>국립무형유산원</td>\n",
       "      <td>영화</td>\n",
       "      <td>Wed, 21 Sep 2022 13:54:00 +0900</td>\n",
       "      <td>무형유산이 알아서 움직이는 영화제, 한번 만나보세요</td>\n",
       "      <td>[인터뷰] 제9회 국제무형유산영상축제 박미경 총괄 프로그래머 ▲ 제9회 국제무형유산...</td>\n",
       "      <td>https://n.news.naver.com/mnews/article/047/000...</td>\n",
       "      <td>0.618569</td>\n",
       "    </tr>\n",
       "    <tr>\n",
       "      <th>4</th>\n",
       "      <td>2928</td>\n",
       "      <td>한국문화재재단</td>\n",
       "      <td>영화</td>\n",
       "      <td>Wed, 09 Nov 2022 01:15:00 +0900</td>\n",
       "      <td>11월 9일 알림</td>\n",
       "      <td>왼쪽부터 임경석 교수와 나가사키평화자료관 사키야마 노보루 이사장. 임종국선생기념사업...</td>\n",
       "      <td>https://n.news.naver.com/mnews/article/028/000...</td>\n",
       "      <td>0.612688</td>\n",
       "    </tr>\n",
       "  </tbody>\n",
       "</table>\n",
       "</div>"
      ],
      "text/plain": [
       "   idx_original     target keyword                          pubDate  \\\n",
       "0            64  국립아시아문화전당      영화  Wed, 05 Oct 2022 13:29:00 +0900   \n",
       "1          1844    한국영상자료원      영화  Sun, 16 Oct 2022 18:28:00 +0900   \n",
       "2           958    영화진흥위원회      영화  Fri, 21 Oct 2022 15:17:00 +0900   \n",
       "3          2890    국립무형유산원      영화  Wed, 21 Sep 2022 13:54:00 +0900   \n",
       "4          2928    한국문화재재단      영화  Wed, 09 Nov 2022 01:15:00 +0900   \n",
       "\n",
       "                          title  \\\n",
       "0     “해외에서 인정받은 K-애니의 저력 선보인다”   \n",
       "1     이우석 회고록 ‘영화에 살다’ 출판기념회 성황   \n",
       "2          다양성과 포용성, 한국영화계가 나섰다   \n",
       "3  무형유산이 알아서 움직이는 영화제, 한번 만나보세요   \n",
       "4                     11월 9일 알림   \n",
       "\n",
       "                                             content  \\\n",
       "0  콘진원, 부산과 광주 두 곳서 한국 애니메이션 상영회 개최부산에서 개최되는 ‘콕 찝...   \n",
       "1  14일 서울 상암동 한국영상자료원에서 열린 이우석 동아수출공사 회장의 회고록 출간기...   \n",
       "2  '모두가 모인 든든한 영화축제' 20일부터 22일까지0.73%P 격차의 지난 20대...   \n",
       "3  [인터뷰] 제9회 국제무형유산영상축제 박미경 총괄 프로그래머 ▲ 제9회 국제무형유산...   \n",
       "4  왼쪽부터 임경석 교수와 나가사키평화자료관 사키야마 노보루 이사장. 임종국선생기념사업...   \n",
       "\n",
       "                                                link     score  \n",
       "0  https://n.news.naver.com/mnews/article/016/000...  0.655800  \n",
       "1  https://n.news.naver.com/mnews/article/021/000...  0.650629  \n",
       "2  https://n.news.naver.com/mnews/article/047/000...  0.638094  \n",
       "3  https://n.news.naver.com/mnews/article/047/000...  0.618569  \n",
       "4  https://n.news.naver.com/mnews/article/028/000...  0.612688  "
      ]
     },
     "execution_count": 9,
     "metadata": {},
     "output_type": "execute_result"
    }
   ],
   "source": [
    "# crawling_result\n",
    "# top_of_business_news_contents\n",
    "# tops_of_org_news_contents_splits\n",
    "result"
   ]
  }
 ],
 "metadata": {
  "kernelspec": {
   "display_name": "Python 3.8.13 ('jeonghyeon')",
   "language": "python",
   "name": "python3"
  },
  "language_info": {
   "codemirror_mode": {
    "name": "ipython",
    "version": 3
   },
   "file_extension": ".py",
   "mimetype": "text/x-python",
   "name": "python",
   "nbconvert_exporter": "python",
   "pygments_lexer": "ipython3",
   "version": "3.8.13"
  },
  "orig_nbformat": 4,
  "vscode": {
   "interpreter": {
    "hash": "df12b971f0e4e081474c4ac44bd338416eac6f5401e1e938ba342788cee78ecd"
   }
  }
 },
 "nbformat": 4,
 "nbformat_minor": 2
}
