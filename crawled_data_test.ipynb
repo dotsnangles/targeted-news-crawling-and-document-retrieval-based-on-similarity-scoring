{
 "cells": [
  {
   "cell_type": "code",
   "execution_count": 1,
   "metadata": {},
   "outputs": [],
   "source": [
    "import pandas as pd\n",
    "import numpy as np\n",
    "from datetime import datetime, timedelta\n",
    "import random\n",
    "from module.preprocess import preprocess"
   ]
  },
  {
   "cell_type": "code",
   "execution_count": 2,
   "metadata": {},
   "outputs": [
    {
     "data": {
      "text/plain": [
       "(390,\n",
       " ['crawling_trg',\n",
       "  'pubDate',\n",
       "  'title',\n",
       "  'content',\n",
       "  'originallink',\n",
       "  'link',\n",
       "  'description'])"
      ]
     },
     "execution_count": 2,
     "metadata": {},
     "output_type": "execute_result"
    }
   ],
   "source": [
    "crawled = pd.read_csv('인공지능_문화체육관광부_클라썸_crawled.csv')\n",
    "for idx, row in crawled.iterrows():\n",
    "    trgs = row.crawling_trg.split(' ')[1:]\n",
    "    for trg in trgs:\n",
    "        if trg not in row.content:\n",
    "            print(row.title)\n",
    "len(crawled), list(crawled.columns)"
   ]
  },
  {
   "cell_type": "code",
   "execution_count": 3,
   "metadata": {},
   "outputs": [
    {
     "name": "stdout",
     "output_type": "stream",
     "text": [
      "국립국어원 인공지능\n",
      "\n",
      "한국어 표준 교육과정으로 연구자 맞춤형 프로그램 선보여[서울경제] 부산외국어대학교(총장 김홍구)는 국립국어원(원장 장소원)이 주최하고 부산외국어대학교가 주관하는 '2022 국외 한국어 연구자 배움이음터(연구책임자 김강희 교수)'가 3주간의 집합 연수와 2주간의 온라인 연수를 병행하는 블렌디드 방식으로 총 5주간의 연수회를 진행했다고 밝혔다.국립국어원은 매년 국외 대학 및 교육 기관에서 한국어를 가르치거나 연구하는 외국인 한국어 전문가를 초청해 배움이음터를 개최하고 있다. 올해는 국립국어원에서 앞서 개발한 '한국어 표준 교육과정(문화체육관광부고시 제2020-54호)'을 적용하여 국외 연구자들의 연구 역량 강화에 초점을 둔 연구자 맞춤형 프로그램을 개발 및 제공하였다.이번 연수회에서는 문법, 어휘, 화용과 같은 기본적인 언어지식을 비롯해, 인공지능 시대의 AI 기반 한국어교육 연구동향, 말뭉치 활용 연구방법론, 네트워크 분석 연구 방법론, Praat을 활용한 실험음성학적 방법론 등 다양한 연구 중심 교과목이 개발 및 제공되었다. 연수생들의 논문 작성을 밀착 지원하기 위하여 지도교수와 박사급 도우미 전담제를 운영해 5주간의 연수회 전체에 걸쳐 연구물이 작성될 수 있도록 과정 중심의 연수회로 진행되었다.연수회는 몽골, 미얀마, 요르단, 이탈리아, 인도네시아, 투르크메니스탄 등 총 13개국에서 참가했으며 오프라인 참가자와 온라인 참가자들 간의 소통을 위하여 구글 클래스룸, 줌(ZOOM) 회의뿐 아니라 다양한 SNS를 활용했다. 특히 부산외국어대학교 이러닝센터 류법모 교수가 개발한 확장 가상 세계(메타버스)를 제3의 공간으로 제공하여 국내외 연수생의 네트워크 형성을 도왔다.전남대학교 초심념 연수생은 \"외국인으로서 한국어 연구를 하는 것이 너무 힘들게 느껴져서 포기하고 싶은 순간이 많았는데 배움이음터를 통해 같이 공부하는 선생님들을 만나고 또 지도교수님과 박사 도우미 선생님의 지도가 있어서 끝까지 포기하지 않고 논문을 쓸 수 있었다\"며 \"이번 배움이음터 연수회를 계기로 한국어 연구자로서의 정체성에 자부심과 애정을 가지게 되었다\"고 소감을 전했다. 한편, 연수생들의 뜨거운 지지와 열정 속에 진행되고 있는 2022년 국립국어원 국외 한국어 연구자 배움이음터는 현재 성과발표회와 수료식을 앞두고 있다. 국립국어원은 배움이음터 사업을 통해 연수생들과 지속적으로 소통하며 국가적 차원의 연수 지원에 힘을 실을 예정이다.\n"
     ]
    }
   ],
   "source": [
    "idx = random.randrange(len(crawled))\n",
    "sample = crawled.iloc[idx]\n",
    "print(sample.crawling_trg)\n",
    "print()\n",
    "print(sample.content)"
   ]
  },
  {
   "cell_type": "code",
   "execution_count": 4,
   "metadata": {},
   "outputs": [],
   "source": [
    "### 무결성 검사\n",
    "for idx, row in crawled.iterrows():\n",
    "    org_name = row.crawling_trg.strip('인공지능')[0].strip()\n",
    "    query = '인공지능'\n",
    "    if not ((org_name in row.content) and (query in row.content)):\n",
    "        print(idx)"
   ]
  },
  {
   "cell_type": "code",
   "execution_count": 71,
   "metadata": {},
   "outputs": [],
   "source": [
    "### 날짜 필터링\n",
    "now = datetime.now()\n",
    "diff_days = timedelta(days=90)\n",
    "three_months_ago = now - diff_days\n",
    "# three_months_ago = np.datetime64(three_months_ago)\n",
    "three_months_ago = pd.to_datetime(three_months_ago, unit='ns', utc=True)\n",
    "crawled['time'] = pd.to_datetime(crawled['pubDate'], utc=True)\n",
    "# crawled['time'] = pd.to_datetime(crawled['pubDate']).dt.tz_convert(None)\n",
    "filtered_df = crawled.loc[(crawled['time'] >= three_months_ago)]"
   ]
  },
  {
   "cell_type": "code",
   "execution_count": 6,
   "metadata": {},
   "outputs": [],
   "source": [
    "# crawled[['crawling_trg', 'pubDate', 'title', 'content']]"
   ]
  },
  {
   "cell_type": "code",
   "execution_count": 11,
   "metadata": {},
   "outputs": [],
   "source": [
    "# preprocessed = preprocess(crawled)"
   ]
  },
  {
   "cell_type": "code",
   "execution_count": 10,
   "metadata": {},
   "outputs": [],
   "source": [
    "# for el in preprocessed.description:\n",
    "#     print(el)\n",
    "#     print()"
   ]
  }
 ],
 "metadata": {
  "kernelspec": {
   "display_name": "Python 3.10.6 ('jeonghyeon')",
   "language": "python",
   "name": "python3"
  },
  "language_info": {
   "codemirror_mode": {
    "name": "ipython",
    "version": 3
   },
   "file_extension": ".py",
   "mimetype": "text/x-python",
   "name": "python",
   "nbconvert_exporter": "python",
   "pygments_lexer": "ipython3",
   "version": "3.8.13"
  },
  "orig_nbformat": 4,
  "vscode": {
   "interpreter": {
    "hash": "df12b971f0e4e081474c4ac44bd338416eac6f5401e1e938ba342788cee78ecd"
   }
  }
 },
 "nbformat": 4,
 "nbformat_minor": 2
}
