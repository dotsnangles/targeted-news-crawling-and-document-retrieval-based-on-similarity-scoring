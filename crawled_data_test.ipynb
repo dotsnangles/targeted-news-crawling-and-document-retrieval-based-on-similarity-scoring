{
 "cells": [
  {
   "cell_type": "code",
   "execution_count": 16,
   "metadata": {},
   "outputs": [],
   "source": [
    "import pandas as pd\n",
    "import numpy as np\n",
    "from datetime import datetime, timedelta\n",
    "import random\n",
    "from module.preprocess import preprocess"
   ]
  },
  {
   "cell_type": "code",
   "execution_count": 14,
   "metadata": {},
   "outputs": [
    {
     "data": {
      "text/plain": [
       "(390,\n",
       " ['crawling_trg',\n",
       "  'pubDate',\n",
       "  'title',\n",
       "  'content',\n",
       "  'originallink',\n",
       "  'link',\n",
       "  'description'])"
      ]
     },
     "execution_count": 14,
     "metadata": {},
     "output_type": "execute_result"
    }
   ],
   "source": [
    "crawled = pd.read_csv('인공지능_문화체육관광부_클라썸_crawled.csv')\n",
    "for idx, row in crawled.iterrows():\n",
    "    trgs = row.crawling_trg.split(' ')[1:]\n",
    "    for trg in trgs:\n",
    "        if trg not in row.content:\n",
    "            print(row.title)\n",
    "len(crawled), list(crawled.columns)"
   ]
  },
  {
   "cell_type": "code",
   "execution_count": 23,
   "metadata": {},
   "outputs": [
    {
     "name": "stdout",
     "output_type": "stream",
     "text": [
      "한국언론진흥재단 인공지능\n",
      "\n",
      "[편집자주] 성공적인 해외 시장 진출을 위한 '체크포인트'는 무엇일까. 2021년부터 매해 시즌별로 제작·방송되는 유팩TV의 올해 핵심 키워드는 '해외 도약 컨설팅'이다. 머니투데이 스타트업 미디어 플랫폼 유니콘팩토리의 연중기획 '진격의 K-스타트업, 세계로!' 취지에 맞춰 해외 진출을 꿈꾸는 토종 스타트업에게 분야별 전문가들이 해외 시장 진출을 위한 컨설팅을 해주는 내용으로 꾸며진다.[[연중기획 : 진격의 K-스타트업, 세계로!]유팩컨설팅 - 아이코어 박철우 대표 ③]반도체·디스플레이·배터리·바이오 등은 고품질도가 곧 경쟁 우위를 가른다. 이런 가운데 국내 한 스타트업이 이 같은 핵심전략 산업군에 없어서는 안 될 품질측정기기 '머신비전'을 국산화하는 데 성공하면서 주목을 받고 있다. 이른바 'K-테크'의 위상이 이전과 달라질 것이란 기대감이 벌서부터 쏟아진다. 머신비전은 간단히 말해 사람과 같은 시각·인지·판단 기능을 지닌 기계가 디스플레이·반도체 등 작업과정이 어렵고 복잡한 부품·장비를 제대로 만들었는지를 빛을 이용해 검사한다. 지금껏 머신비전은 대부분 미국과 유럽, 일본 등에서 들여온 수입품에 의존해왔다. 그렇다보니 가격이 고가인 데다 납기 지연으로 공정라인이 제때 가동되지 못하는 피해가 때로는 따랐다. 국내 장비업체들이 원하는 기능 추가, 성능 개선 요구가 받아들여지지 않을 때도 종종 있었다는 게 업계 관계자의 설명이다. '한국형 머신비전'을 완성한 기업은 산업용 검사장비 광학부품 전문업체 '아이코어'다. 지난 5월 글로벌 디스플레이 선두 기업의 부품공급망관리(SCM)에 사명을 올린 데 이어 치열한 경쟁을 뚫고 중기벤처부의 '소부장 스타트업 100'기업에 선정됐다. .최근 국내 굴지의 디스플레이 기업체 2곳에 자사 머신비전을 납품, 대형TV의 핵심인 OLED(유기발광다이오드) 패널 검사에 도입됐다는 후문이다. 또 반도체 웨이퍼 검사 분야에서도 제품 공급이 늘고 있는 추세다. 이처럼 기술력·신뢰성을 얻다 보니 최근 들어 해외시장으로 눈을 돌리고 있다. 하지만 요즘과 같은 세계 기술경쟁 시대에 우리 제품의 기술력이 세계 무대에서 어느 정도 수준인지, 고객관리·마케팅, 특허 관리 등 R&D(연구·개발) 분야를 제외한 사업 부문은 잘 꾸려가고 있는 건지 불안하다. 특히 하드웨어 기반인 아이코어는 AI(인공지능) 등 소프트웨어(SW) 역량으로 무장한 글로벌 경쟁사들과 맞닥뜨렸을 때 어떻게 대응해야 할지도 막막하다. 아이코어는 이런 고민의 가장 효율적인 해답을 찾고 장기적인 해외진출 전략을 세우기 위해 머니투데이 스타트업 미디어 플랫폼 유니콘팩토리에 조언을 구해왔다. 이에 기술 사업화 역량 분석 전문기관인 한국과학기술정보연구원의 최윤정 박사와 K-스타트업 해외진출을 지원하는 본투글로벌센터 김종갑 센터장이 아이코어의 해외진출 위한 컨설팅에 나섰다. 어떤 노하우와 해결 솔루션이 제시될 지 들어보자. [머니투데이 스타트업 미디어 플랫폼 유니콘팩토리]※ 이 콘텐츠는 한국언론진흥재단의 정부 광고 수수료를 지원받아 제작되었습니다.\n"
     ]
    }
   ],
   "source": [
    "idx = random.randrange(len(crawled))\n",
    "sample = crawled.iloc[idx]\n",
    "print(sample.crawling_trg)\n",
    "print()\n",
    "print(sample.content)"
   ]
  },
  {
   "cell_type": "code",
   "execution_count": 21,
   "metadata": {},
   "outputs": [],
   "source": [
    "### 무결성 검사\n",
    "for idx, row in crawled.iterrows():\n",
    "    org_name = row.crawling_trg.strip('인공지능')[0].strip()\n",
    "    query = '인공지능'\n",
    "    if not ((org_name in row.content) and (query in row.content)):\n",
    "        print(idx)"
   ]
  },
  {
   "cell_type": "code",
   "execution_count": 71,
   "metadata": {},
   "outputs": [],
   "source": [
    "### 날짜 필터링\n",
    "now = datetime.now()\n",
    "diff_days = timedelta(days=90)\n",
    "three_months_ago = now - diff_days\n",
    "# three_months_ago = np.datetime64(three_months_ago)\n",
    "three_months_ago = pd.to_datetime(three_months_ago, unit='ns', utc=True)\n",
    "crawled['time'] = pd.to_datetime(crawled['pubDate'], utc=True)\n",
    "# crawled['time'] = pd.to_datetime(crawled['pubDate']).dt.tz_convert(None)\n",
    "filtered_df = crawled.loc[(crawled['time'] >= three_months_ago)]"
   ]
  },
  {
   "cell_type": "code",
   "execution_count": 6,
   "metadata": {},
   "outputs": [],
   "source": [
    "# crawled[['crawling_trg', 'pubDate', 'title', 'content']]"
   ]
  },
  {
   "cell_type": "code",
   "execution_count": 11,
   "metadata": {},
   "outputs": [],
   "source": [
    "# preprocessed = preprocess(crawled)"
   ]
  },
  {
   "cell_type": "code",
   "execution_count": 10,
   "metadata": {},
   "outputs": [],
   "source": [
    "# for el in preprocessed.description:\n",
    "#     print(el)\n",
    "#     print()"
   ]
  }
 ],
 "metadata": {
  "kernelspec": {
   "display_name": "Python 3.10.6 ('jeonghyeon')",
   "language": "python",
   "name": "python3"
  },
  "language_info": {
   "codemirror_mode": {
    "name": "ipython",
    "version": 3
   },
   "file_extension": ".py",
   "mimetype": "text/x-python",
   "name": "python",
   "nbconvert_exporter": "python",
   "pygments_lexer": "ipython3",
   "version": "3.10.6"
  },
  "orig_nbformat": 4,
  "vscode": {
   "interpreter": {
    "hash": "df12b971f0e4e081474c4ac44bd338416eac6f5401e1e938ba342788cee78ecd"
   }
  }
 },
 "nbformat": 4,
 "nbformat_minor": 2
}
